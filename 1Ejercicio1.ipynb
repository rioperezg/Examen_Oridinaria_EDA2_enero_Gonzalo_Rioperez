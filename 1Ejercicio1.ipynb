{
 "cells": [
  {
   "cell_type": "code",
   "execution_count": null,
   "metadata": {},
   "outputs": [],
   "source": [
    "\"\"\"\n",
    "Crea una clase llamada Pokemon.py que tenga los atributos nombre y tipo. Crea el constructor de la clase. Añadir en el constructor un print \n",
    "para informar de que el Pokemon se ha creado con éxito. Crear un método llamado clasificacion que clasifique a los Pokemon según su tipo de \n",
    "la siguiente manera:\n",
    "\n",
    "los PS, el Ataque, la Defensa, el Ataque Especial, la Defensa Especial y la Velocidad.\n",
    "\n",
    "1.2 Experimentación (0,5 Puntos)\n",
    "\n",
    "Crea una lista con un numero arbitrario de objetos tipo Pokemon. Recorre los elementos de la lista, y prueba a ejecutar el método \n",
    "clasificacion de cada objeto que has creado.\n",
    "\"\"\""
   ]
  },
  {
   "cell_type": "code",
   "execution_count": null,
   "metadata": {},
   "outputs": [],
   "source": []
  },
  {
   "cell_type": "code",
   "execution_count": null,
   "metadata": {},
   "outputs": [],
   "source": [
    "class Pokemon(object):\n",
    "    def __init__(self, nombre, tipo):\n",
    "        self.nombre = nombre\n",
    "        self.tipo = tipo\n",
    "        print(\"El pokemon se ha creado con exito\")\n",
    "\n",
    "    # Ahora pasaremos a crear un metodo clasificacion que clasifique a los pokemon segun su tipo de la la siguiente manera:\n",
    "    # los PS, el Ataque, la Defensa, el Ataque Especial, la Defensa Especial y la Velocidad.\n",
    "    def clasificacion(self, tipo_ps, tipo_ataque, tipo_ataque_esp, tipo_defensa_esp, tipo_velocidad):\n",
    "        self.tipo_ps = tipo_ps\n",
    "        self.tipo_ataque = tipo_ataque\n",
    "        self.tipo_ataque_esp = tipo_ataque_esp  \n",
    "        self.tipo_defensa_esp = tipo_defensa_esp\n",
    "        self.tipo_velocidad = tipo_velocidad\n",
    "        return \"El pokemon {}, de tipo {} tiene {} PS, {} de ataque, {} de ataque especial, {} de defensa especial y {} de velocidad\".format(self.nombre, self.tipo, self.tipo_ps, self.tipo_ataque, self.tipo_ataque_esp, self.tipo_defensa_esp, self.tipo_velocidad)\n",
    "       \n",
    "\n",
    "i = random.randint(1, 7)\n",
    "# random.sample(list_vehic, 3)\n",
    "# Experimentacion\n",
    "import unittest, random\n",
    "lista_pokemon = []\n",
    "class TestPokemon(unittest.TestCase):\n",
    "    def setUp(self):\n",
    "        self.pokemon1 = Pokemon(\"Pikachu\", \"Electrico\")\n",
    "        self.pokemon2 = Pokemon(\"Charmander\", \"Fuego\")\n",
    "        self.pokemon3 = Pokemon(\"Squirtle\", \"Agua\")\n",
    "        self.pokemon4 = Pokemon(\"Bulbasaur\", \"Planta\")\n",
    "        self.pokemon5 = Pokemon(\"Onix\", \"Tierra\")\n",
    "        self.pokemon6 = Pokemon(\"Gastly\", \"Fantasma\")\n",
    "        self.pokemon7 = Pokemon(\"Snorlax\", \"Normal\")\n",
    "        lista_pokemon.append(self.pokemon1)\n",
    "        lista_pokemon.append(self.pokemon2)\n",
    "        lista_pokemon.append(self.pokemon3)\n",
    "        lista_pokemon.append(self.pokemon4)\n",
    "        lista_pokemon.append(self.pokemon5)\n",
    "        lista_pokemon.append(self.pokemon6)\n",
    "        lista_pokemon.append(self.pokemon7)\n",
    "    def test_clasificacion(self, lista_pokemon):\n",
    "        lista_pokemon = random.sample(lista_pokemon, i)\n",
    "        \n",
    "\n",
    "            # hAZTE CON TODOS poKEMON"
   ]
  }
 ],
 "metadata": {
  "language_info": {
   "name": "python"
  },
  "orig_nbformat": 4
 },
 "nbformat": 4,
 "nbformat_minor": 2
}
